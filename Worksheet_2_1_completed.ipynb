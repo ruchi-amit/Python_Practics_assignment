{
 "cells": [
  {
   "cell_type": "markdown",
   "metadata": {
    "id": "owD1ZWHrmVYt"
   },
   "source": [
    "# Welcome to Worksheet 2.1 Let's Start Coding......!"
   ]
  },
  {
   "cell_type": "markdown",
   "metadata": {
    "id": "gtVvkrZZgwxk"
   },
   "source": [
    "Question 1 - Write a program which can take the user's name and print a greeting message along with the name."
   ]
  },
  {
   "cell_type": "code",
   "execution_count": 3,
   "metadata": {
    "id": "Hxp1VbuGhXDA"
   },
   "outputs": [
    {
     "name": "stdin",
     "output_type": "stream",
     "text": [
      "Enter your Name: Ruchi\n"
     ]
    },
    {
     "name": "stdout",
     "output_type": "stream",
     "text": [
      "Hello Ruchi! Welcome to the jobaaj Learning Platform\n"
     ]
    }
   ],
   "source": [
    "#write your code here\n",
    "name=input(\"Enter your Name:\")\n",
    "print(f\"Hello {name}! Welcome to the jobaaj Learning Platform\")\n"
   ]
  },
  {
   "cell_type": "code",
   "execution_count": 4,
   "metadata": {
    "id": "EJfnSjXKi-Fx"
   },
   "outputs": [
    {
     "name": "stdin",
     "output_type": "stream",
     "text": [
      "Enter your Full name Ruchi chaubey\n"
     ]
    },
    {
     "name": "stdout",
     "output_type": "stream",
     "text": [
      "Hello Ruchi chaubey! Welcome to my Program\n"
     ]
    }
   ],
   "source": [
    "name1=input(\"Enter your Full name\")\n",
    "print(f\"Hello {name1}! Welcome to my Program\")"
   ]
  },
  {
   "cell_type": "code",
   "execution_count": 5,
   "metadata": {
    "id": "2kf_Qz9cGavN"
   },
   "outputs": [
    {
     "name": "stdin",
     "output_type": "stream",
     "text": [
      "Enter your name:  Hurry\n"
     ]
    },
    {
     "name": "stdout",
     "output_type": "stream",
     "text": [
      "Hellow Hurry! Welcome to the coder world :)\n"
     ]
    }
   ],
   "source": [
    "name2=input(\"Enter your name: \")\n",
    "print(f\"Hellow {name2}! Welcome to the coder world :)\")"
   ]
  },
  {
   "cell_type": "markdown",
   "metadata": {
    "id": "6fEZ-LDChX_F"
   },
   "source": [
    "Question 2 - Let's try to play with numbers, take two numbers as input and print their sum along with a message."
   ]
  },
  {
   "cell_type": "code",
   "execution_count": 9,
   "metadata": {
    "id": "iJ7RVSjqhnWf"
   },
   "outputs": [
    {
     "name": "stdin",
     "output_type": "stream",
     "text": [
      "Enter 1st number 5\n",
      "Enter second number:  6\n"
     ]
    },
    {
     "name": "stdout",
     "output_type": "stream",
     "text": [
      "Sum of number 5 and 6 will be: 11\n"
     ]
    }
   ],
   "source": [
    "#### write your code here\n",
    "num1=int(input(\"Enter 1st number\"))\n",
    "num2=int(input(\"Enter second number: \"))\n",
    "sum_result=num1+num2\n",
    "print(f\"Sum of number {num1} and {num2} will be: {sum_result}\")"
   ]
  },
  {
   "cell_type": "code",
   "execution_count": 11,
   "metadata": {
    "id": "d-6OlV-n-mKZ"
   },
   "outputs": [
    {
     "name": "stdin",
     "output_type": "stream",
     "text": [
      "Enter the first number: 4.5\n",
      "Enter the second number 6.5\n"
     ]
    },
    {
     "name": "stdout",
     "output_type": "stream",
     "text": [
      "Sum of the number 4.5 and 6.5 will be : 11.0\n"
     ]
    }
   ],
   "source": [
    "num1=float(input(\"Enter the first number:\"))\n",
    "num2=float(input(\"Enter the second number\"))\n",
    "print(f\"Sum of the number {num1} and {num2} will be : {num1+num2}\")"
   ]
  },
  {
   "cell_type": "code",
   "execution_count": 13,
   "metadata": {
    "id": "Or8lEYkrGgLc"
   },
   "outputs": [
    {
     "name": "stdin",
     "output_type": "stream",
     "text": [
      "Enter the 1st number 4.6\n",
      "Enter the second number 5.5\n"
     ]
    },
    {
     "name": "stdout",
     "output_type": "stream",
     "text": [
      "Sum of the number 4.6 and 5.5 will be : 10.1\n"
     ]
    }
   ],
   "source": [
    "num1=float(input(\"Enter the 1st number\"))\n",
    "num2=float(input(\"Enter the second number\"))\n",
    "print(f\"Sum of the number {num1} and {num2} will be : {num1+num2}\")"
   ]
  },
  {
   "cell_type": "markdown",
   "metadata": {
    "id": "FNSfALLvhoML"
   },
   "source": [
    "Question 3 - Okay let's level up the numbers game, input length and breadth of a rectangle from the user and calculate it's area."
   ]
  },
  {
   "cell_type": "code",
   "execution_count": 15,
   "metadata": {
    "id": "caZGkx10ifdw"
   },
   "outputs": [
    {
     "name": "stdin",
     "output_type": "stream",
     "text": [
      "Enter the length of rectangle 5\n",
      "Enter the breadth of rectangle 7\n"
     ]
    },
    {
     "name": "stdout",
     "output_type": "stream",
     "text": [
      "Area of the reactangle ABCD will be: 35\n"
     ]
    }
   ],
   "source": [
    "#write your code here\n",
    "length=int(input(\"Enter the length of rectangle\"))\n",
    "breadth=int(input(\"Enter the breadth of rectangle\"))\n",
    "print(f\"Area of the reactangle ABCD will be: {length*breadth}\")"
   ]
  },
  {
   "cell_type": "code",
   "execution_count": 25,
   "metadata": {
    "id": "1j1iDSltifTl"
   },
   "outputs": [
    {
     "name": "stdin",
     "output_type": "stream",
     "text": [
      "Enther the leangth of reactangle:  5\n",
      "Enter the breadth of reactangle:  6\n"
     ]
    },
    {
     "name": "stdout",
     "output_type": "stream",
     "text": [
      "Area of the reactangle will be 30 sq ft\n"
     ]
    }
   ],
   "source": [
    "length=int(input(\"Enther the leangth of reactangle: \"))\n",
    "breadth=int(input(\"Enter the breadth of reactangle: \"))\n",
    "area=length*breadth\n",
    "print(f\"Area of the reactangle will be {area} sq ft\")"
   ]
  },
  {
   "cell_type": "code",
   "execution_count": 23,
   "metadata": {
    "id": "qN0237uYGhcz"
   },
   "outputs": [
    {
     "name": "stdin",
     "output_type": "stream",
     "text": [
      "Enter length of reactangle:  4.5\n",
      "Enter breadth of reactangle:  3.6\n"
     ]
    },
    {
     "name": "stdout",
     "output_type": "stream",
     "text": [
      "Area of reactangle will be: 16.2sq ft\n"
     ]
    }
   ],
   "source": [
    "length=float(input(\"Enter length of reactangle: \"))\n",
    "breadth=float(input(\"Enter breadth of reactangle: \"))\n",
    "area=length*breadth\n",
    "print(f\"Area of reactangle will be: {area}sq ft\")"
   ]
  },
  {
   "cell_type": "markdown",
   "metadata": {
    "id": "E6ZFXaLVifzp"
   },
   "source": [
    "Question 4 - Whoa! you are becoming a pro now. Let's see if you could solve this one.<br> Input a number and print it's cube.<br>\n",
    "Quite Simple but can you write multiple solutions for this."
   ]
  },
  {
   "cell_type": "code",
   "execution_count": 29,
   "metadata": {
    "id": "h3tIjRyxjtHP"
   },
   "outputs": [
    {
     "name": "stdin",
     "output_type": "stream",
     "text": [
      "Enter the number 3\n"
     ]
    },
    {
     "name": "stdout",
     "output_type": "stream",
     "text": [
      "cube of the 3 is 27\n"
     ]
    }
   ],
   "source": [
    "#write your code here\n",
    "num=int(input(\"Enter the number\"))\n",
    "print(f\"cube of the {num} is {num**3}\")"
   ]
  },
  {
   "cell_type": "code",
   "execution_count": 33,
   "metadata": {
    "id": "Yg4BHZAhGkag"
   },
   "outputs": [
    {
     "name": "stdin",
     "output_type": "stream",
     "text": [
      "Enter the number:  1.2\n"
     ]
    },
    {
     "name": "stdout",
     "output_type": "stream",
     "text": [
      "Cube of the 1.2: 1.7279999999999998\n"
     ]
    }
   ],
   "source": [
    "num=float(input(\"Enter the number: \"))\n",
    "cube=num**3\n",
    "print(f\"Cube of the {num}: {cube}\")"
   ]
  },
  {
   "cell_type": "code",
   "execution_count": 37,
   "metadata": {
    "id": "pd9qLVqMjseY"
   },
   "outputs": [
    {
     "name": "stdin",
     "output_type": "stream",
     "text": [
      "Enter the number:  6\n"
     ]
    },
    {
     "name": "stdout",
     "output_type": "stream",
     "text": [
      "Cube of the 6 will be 216\n"
     ]
    }
   ],
   "source": [
    "num=int(input(\"Enter the number: \"))\n",
    "cube=num**3\n",
    "print(f\"Cube of the {num} will be {cube}\")"
   ]
  },
  {
   "cell_type": "markdown",
   "metadata": {
    "id": "j5R3ZjMdgpgD"
   },
   "source": [
    "Question 5 - Write a program to input a number 'n' and print it's Square and Cube.\n",
    "\n",
    "\n",
    "\n"
   ]
  },
  {
   "cell_type": "code",
   "execution_count": 5,
   "metadata": {
    "id": "RQ0eSQgsg-UN"
   },
   "outputs": [
    {
     "name": "stdin",
     "output_type": "stream",
     "text": [
      "Enter the number:  3\n"
     ]
    },
    {
     "name": "stdout",
     "output_type": "stream",
     "text": [
      "Square of number is  9\n",
      "Cube of number is  27\n"
     ]
    }
   ],
   "source": [
    "#write your code here\n",
    "num=int(input(\"Enter the number: \"))\n",
    "s=num**2\n",
    "c=num**3\n",
    "print(f\"Square of number is \",s)\n",
    "print(f\"Cube of number is \",c)"
   ]
  },
  {
   "cell_type": "code",
   "execution_count": 9,
   "metadata": {
    "id": "kWmWQ0pUGmW6"
   },
   "outputs": [
    {
     "name": "stdin",
     "output_type": "stream",
     "text": [
      "Enter the number 2.3\n"
     ]
    },
    {
     "name": "stdout",
     "output_type": "stream",
     "text": [
      "Square of number is  5.289999999999999\n",
      "Cube of number is  12.166999999999998\n"
     ]
    }
   ],
   "source": [
    "num2=float(input(\"Enter the number\"))\n",
    "s=num2**2\n",
    "c=num2**3\n",
    "print(f\"Square of number is \",s)\n",
    "print(f\"Cube of number is \",c)"
   ]
  },
  {
   "cell_type": "code",
   "execution_count": null,
   "metadata": {
    "id": "xIHjMdc-g9xx"
   },
   "outputs": [],
   "source": []
  },
  {
   "cell_type": "markdown",
   "metadata": {
    "id": "QIweAYZyjtfd"
   },
   "source": [
    "Question 6 - Write a program to input values in Km and convert it into miles.<br> (1Km = 0.621371 Miles)"
   ]
  },
  {
   "cell_type": "code",
   "execution_count": 11,
   "metadata": {
    "id": "pgtWTD6UmJM3"
   },
   "outputs": [
    {
     "name": "stdin",
     "output_type": "stream",
     "text": [
      "Enter the value for Km  2\n"
     ]
    },
    {
     "name": "stdout",
     "output_type": "stream",
     "text": [
      "kilometer is equal to  1.242742\n"
     ]
    }
   ],
   "source": [
    "#write your code here\n",
    "km=int(input(\"Enter the value for Km \"))\n",
    "miles=km*0.621371\n",
    "print(f\"kilometer is equal to \",miles)"
   ]
  },
  {
   "cell_type": "code",
   "execution_count": 15,
   "metadata": {
    "id": "Qs7aSZVYmI8N"
   },
   "outputs": [
    {
     "name": "stdin",
     "output_type": "stream",
     "text": [
      "Enter the value for Km  5\n"
     ]
    },
    {
     "name": "stdout",
     "output_type": "stream",
     "text": [
      "kilometer is equal to 3.106855 miles\n"
     ]
    }
   ],
   "source": [
    "km=int(input(\"Enter the value for Km \"))\n",
    "miles=km*0.621371\n",
    "print(f\"kilometer is equal to {miles} miles\")"
   ]
  },
  {
   "cell_type": "code",
   "execution_count": null,
   "metadata": {
    "id": "YGE7TldpGoe0"
   },
   "outputs": [],
   "source": []
  },
  {
   "cell_type": "markdown",
   "metadata": {
    "id": "eH6JqjnDnDTK"
   },
   "source": [
    "Quetion 7 - Write a program to input in Quintals and convert it into Grams and Kilograms.\n"
   ]
  },
  {
   "cell_type": "code",
   "execution_count": 21,
   "metadata": {
    "id": "QL0iif6e1fDB"
   },
   "outputs": [
    {
     "name": "stdin",
     "output_type": "stream",
     "text": [
      "Enter the value in quintals:  5\n"
     ]
    },
    {
     "name": "stdout",
     "output_type": "stream",
     "text": [
      "Quintals is equal to 500 kilograms\n",
      "Quintals is equal to 500000 grams\n"
     ]
    }
   ],
   "source": [
    "#write your code here\n",
    "Q=int(input(\"Enter the value in quintals: \"))\n",
    "k=Q*100\n",
    "g=Q*100000\n",
    "print(f\"Quintals is equal to {k} kilograms\")\n",
    "print(f\"Quintals is equal to {g} grams\")"
   ]
  },
  {
   "cell_type": "code",
   "execution_count": 23,
   "metadata": {
    "id": "SQ3cL73iGqT8"
   },
   "outputs": [
    {
     "name": "stdin",
     "output_type": "stream",
     "text": [
      "Enter the value in quintals:  7\n"
     ]
    },
    {
     "name": "stdout",
     "output_type": "stream",
     "text": [
      "Quintals is equal to 700 kilograms\n",
      "Quintals is equal to 700000 grams\n"
     ]
    }
   ],
   "source": [
    "Q=int(input(\"Enter the value in quintals: \"))\n",
    "#k=Q*100\n",
    "#g=Q*1000\n",
    "print(f\"Quintals is equal to {Q*100} kilograms\")\n",
    "print(f\"Quintals is equal to {Q*100000} grams\")"
   ]
  },
  {
   "cell_type": "code",
   "execution_count": 25,
   "metadata": {
    "id": "BW0fclQ81eod"
   },
   "outputs": [
    {
     "name": "stdin",
     "output_type": "stream",
     "text": [
      "Enter the value in quintals:  2.5\n"
     ]
    },
    {
     "name": "stdout",
     "output_type": "stream",
     "text": [
      "Quintals is equal to 250.0 kilograms\n",
      "Quintals is equal to 250000.0 grams\n"
     ]
    }
   ],
   "source": [
    "Q=float(input(\"Enter the value in quintals: \"))\n",
    "#k=Q*100\n",
    "#g=Q*1000\n",
    "print(f\"Quintals is equal to {Q*100} kilograms\")\n",
    "print(f\"Quintals is equal to {Q*100000} grams\")"
   ]
  },
  {
   "cell_type": "markdown",
   "metadata": {
    "id": "5GtIPfPu1ffK"
   },
   "source": [
    "Quetion 8 - Write a program to input two numbers and swape them with each other."
   ]
  },
  {
   "cell_type": "code",
   "execution_count": 29,
   "metadata": {
    "id": "0PTaUlxd1ti-"
   },
   "outputs": [
    {
     "name": "stdin",
     "output_type": "stream",
     "text": [
      "Enter 1st number:  3\n",
      "Enter 2nd number:  4\n"
     ]
    },
    {
     "name": "stdout",
     "output_type": "stream",
     "text": [
      "Number before swaping: \n",
      "First number:  3\n",
      "Seconf number:  4\n"
     ]
    }
   ],
   "source": [
    "#write your code here\n",
    "num1=int(input(\"Enter 1st number: \"))\n",
    "num2=int(input(\"Enter 2nd number: \"))\n",
    "print(\"Number before swaping: \")\n",
    "print(f\"First number: \",num1)\n",
    "print(f\"Seconf number: \",num2)"
   ]
  },
  {
   "cell_type": "code",
   "execution_count": 35,
   "metadata": {
    "id": "gRj_myDWGsF1"
   },
   "outputs": [
    {
     "name": "stdout",
     "output_type": "stream",
     "text": [
      "After swaping: \n",
      "first number:  4\n",
      "seconf number:  3\n"
     ]
    }
   ],
   "source": [
    "num1,num2=num2,num1\n",
    "print(f\"After swaping: \")\n",
    "print(f\"first number: \",num1)\n",
    "print(f\"seconf number: \",num2)"
   ]
  },
  {
   "cell_type": "code",
   "execution_count": 37,
   "metadata": {
    "id": "CaKkRcYQ1tXG"
   },
   "outputs": [
    {
     "name": "stdin",
     "output_type": "stream",
     "text": [
      "Enter 1st number 1\n",
      "Enter 2nd number 2\n"
     ]
    },
    {
     "name": "stdout",
     "output_type": "stream",
     "text": [
      "Before Swaping:  1 2\n"
     ]
    }
   ],
   "source": [
    "n1=int(input(\"Enter 1st number\"))\n",
    "n2=int(input(\"Enter 2nd number\"))\n",
    "print(f\"Before Swaping: \",n1,n2)"
   ]
  },
  {
   "cell_type": "code",
   "execution_count": 39,
   "metadata": {},
   "outputs": [
    {
     "name": "stdout",
     "output_type": "stream",
     "text": [
      "After Swaping:  2 1\n"
     ]
    }
   ],
   "source": [
    "n1,n2=n2,n1\n",
    "print(f\"After Swaping: \",n1,n2)"
   ]
  },
  {
   "cell_type": "markdown",
   "metadata": {
    "id": "qQfITseA1uA-"
   },
   "source": [
    "Question 9 - Write a program to input three numbers and swap them as this:<br> First number becomes second number, second number becomes third number and third number becomes the first number "
   ]
  },
  {
   "cell_type": "code",
   "execution_count": 41,
   "metadata": {
    "id": "uN2fZvst2PMn"
   },
   "outputs": [
    {
     "name": "stdin",
     "output_type": "stream",
     "text": [
      "Enter 1st number:  2\n",
      "Enter 2nd number:  4\n",
      "Enter 3rd number:  6\n"
     ]
    },
    {
     "name": "stdout",
     "output_type": "stream",
     "text": [
      "Number before swaping:  2 4 6\n"
     ]
    }
   ],
   "source": [
    "#write your code here\n",
    "a=int(input(\"Enter 1st number: \"))\n",
    "b=int(input(\"Enter 2nd number: \"))\n",
    "c=int(input(\"Enter 3rd number: \"))\n",
    "print(\"Number before swaping: \",a,b,c)\n"
   ]
  },
  {
   "cell_type": "code",
   "execution_count": 43,
   "metadata": {
    "id": "b6BDlSq52PAn"
   },
   "outputs": [
    {
     "name": "stdout",
     "output_type": "stream",
     "text": [
      "After Swaping the numbers:  4 6 2\n"
     ]
    }
   ],
   "source": [
    "a,b,c=b,c,a\n",
    "print(f\"After Swaping the numbers: \",a,b,c)"
   ]
  },
  {
   "cell_type": "code",
   "execution_count": null,
   "metadata": {
    "id": "ajrlShxnGuez"
   },
   "outputs": [],
   "source": []
  },
  {
   "cell_type": "markdown",
   "metadata": {
    "id": "Nuwyjhpd2Plm"
   },
   "source": [
    "Question 10 - Write a program to inout three numbers and swap them as this:<br>\n",
    "1st number gets the value of 1st+2nd<br>\n",
    "2nd number gets the value of 1st+3rd<br>\n",
    "3rd number gets the value of 3rd+2nd<br>\n"
   ]
  },
  {
   "cell_type": "code",
   "execution_count": 63,
   "metadata": {
    "id": "wnUkVAWtaqhY"
   },
   "outputs": [
    {
     "name": "stdin",
     "output_type": "stream",
     "text": [
      "Enter 1st number:  1\n",
      "Enter 2nd number:  2\n",
      "Enter 3rd number:  3\n"
     ]
    },
    {
     "name": "stdout",
     "output_type": "stream",
     "text": [
      "Numbres Before Swaping:  1 2 3\n"
     ]
    }
   ],
   "source": [
    "#write your code here\n",
    "a=int(input(\"Enter 1st number: \"))\n",
    "b=int(input(\"Enter 2nd number: \"))\n",
    "c=int(input(\"Enter 3rd number: \"))\n",
    "print(f\"Numbres Before Swaping: \",a,b,c)"
   ]
  },
  {
   "cell_type": "code",
   "execution_count": 67,
   "metadata": {
    "id": "4yBd4NkqaqJM"
   },
   "outputs": [],
   "source": [
    "a1=a+b\n",
    "b1=a+c\n",
    "c1=c+b"
   ]
  },
  {
   "cell_type": "code",
   "execution_count": 69,
   "metadata": {
    "id": "hKfoIKleGwoo"
   },
   "outputs": [
    {
     "name": "stdout",
     "output_type": "stream",
     "text": [
      "Numbers after Swaping:  3 4 5\n"
     ]
    }
   ],
   "source": [
    "a,b,c=a1,b1,c1\n",
    "print(f\"Numbers after Swaping: \",a1,b1,c1)"
   ]
  },
  {
   "cell_type": "markdown",
   "metadata": {
    "id": "5PCcGKPviNFw"
   },
   "source": [
    "Visit [Jobaajlearnings.com ](http://learnings.jobaaj.com/)for more Courses<br><br>\n",
    "Connect with Us on <br>\n",
    "\n",
    "\n",
    "*  [Instagram](https://www.instagram.com/jobaaj.com_/)<br> \n",
    "*  [LinkedIn](https://www.linkedin.com/showcase/jobaaj-learnings/)<br>\n",
    "*  [Medium](https://jobaaj-com.medium.com/)<br>\n",
    "\n",
    "Connect with the Instructor on <br>\n",
    "\n",
    "\n",
    "*  [Instagram](https://www.instagram.com/shivavashishtha_/)<br> \n",
    "*  [LinkedIn](https://www.linkedin.com/in/shivavashishtha/)<br>\n",
    "*  [Medium](https://medium.com/@shiva.vashishtha)<br>\n",
    "*  [GitHub](https://github.com/shivavashishtha)<br>\n",
    "\n",
    "\n",
    "\n"
   ]
  }
 ],
 "metadata": {
  "colab": {
   "collapsed_sections": [],
   "name": "Worksheet-2.1.ipynb",
   "provenance": []
  },
  "kernelspec": {
   "display_name": "Python [conda env:base] *",
   "language": "python",
   "name": "conda-base-py"
  },
  "language_info": {
   "codemirror_mode": {
    "name": "ipython",
    "version": 3
   },
   "file_extension": ".py",
   "mimetype": "text/x-python",
   "name": "python",
   "nbconvert_exporter": "python",
   "pygments_lexer": "ipython3",
   "version": "3.12.7"
  }
 },
 "nbformat": 4,
 "nbformat_minor": 4
}
